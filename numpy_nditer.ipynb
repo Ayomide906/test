{
 "cells": [
  {
   "cell_type": "markdown",
   "id": "e9c0c2a3-a915-438d-b5f4-fab9ec45656f",
   "metadata": {},
   "source": [
    "#numpy nditer quick practice"
   ]
  },
  {
   "cell_type": "code",
   "execution_count": 1,
   "id": "966c6609-0b61-4e9b-a4db-3a3820d3a4b9",
   "metadata": {},
   "outputs": [],
   "source": [
    "import numpy as np"
   ]
  },
  {
   "cell_type": "code",
   "execution_count": 2,
   "id": "f03a6e6e-3b1a-4bdc-b3af-ed849d841471",
   "metadata": {},
   "outputs": [
    {
     "data": {
      "text/plain": [
       "array([[ 0,  1,  2,  3],\n",
       "       [ 4,  5,  6,  7],\n",
       "       [ 8,  9, 10, 11]])"
      ]
     },
     "execution_count": 2,
     "metadata": {},
     "output_type": "execute_result"
    }
   ],
   "source": [
    "a=np.arange(12).reshape(3,4)\n",
    "a"
   ]
  },
  {
   "cell_type": "code",
   "execution_count": 5,
   "id": "9560daa7-c51f-4497-8677-2aad4ed2006f",
   "metadata": {},
   "outputs": [
    {
     "name": "stdout",
     "output_type": "stream",
     "text": [
      "0\n",
      "1\n",
      "2\n",
      "3\n",
      "4\n",
      "5\n",
      "6\n",
      "7\n",
      "8\n",
      "9\n",
      "10\n",
      "11\n"
     ]
    }
   ],
   "source": [
    "for cell in a.flat :\n",
    "    print(cell)"
   ]
  },
  {
   "cell_type": "markdown",
   "id": "ff294797-a2c2-4b64-a57a-602b6723f195",
   "metadata": {},
   "source": [
    "##using flags then external loop"
   ]
  },
  {
   "cell_type": "code",
   "execution_count": 11,
   "id": "b9257276-331b-458a-823f-9403db750b8f",
   "metadata": {},
   "outputs": [
    {
     "name": "stdout",
     "output_type": "stream",
     "text": [
      "[ 0  1  2  3  4  5  6  7  8  9 10 11]\n"
     ]
    }
   ],
   "source": [
    "for x in np.nditer(a,order='C',flags=['external_loop']):\n",
    "    print(x)"
   ]
  },
  {
   "cell_type": "code",
   "execution_count": 13,
   "id": "85c8d443-e9db-4541-9d84-5b68fc78a511",
   "metadata": {},
   "outputs": [],
   "source": [
    "for x in np.nditer(a,op_flags=['readwrite']):\n",
    "    x[...]=x*2"
   ]
  },
  {
   "cell_type": "code",
   "execution_count": 14,
   "id": "82ff7df9-0525-44fc-ae33-7ca35a508b12",
   "metadata": {},
   "outputs": [
    {
     "data": {
      "text/plain": [
       "array([[ 0,  2,  4,  6],\n",
       "       [ 8, 10, 12, 14],\n",
       "       [16, 18, 20, 22]])"
      ]
     },
     "execution_count": 14,
     "metadata": {},
     "output_type": "execute_result"
    }
   ],
   "source": [
    "a"
   ]
  },
  {
   "cell_type": "code",
   "execution_count": 15,
   "id": "6ea511e4-34a9-4d88-a88e-3d9aa30010c7",
   "metadata": {},
   "outputs": [
    {
     "data": {
      "text/plain": [
       "array([[ 3],\n",
       "       [ 7],\n",
       "       [11]])"
      ]
     },
     "execution_count": 15,
     "metadata": {},
     "output_type": "execute_result"
    }
   ],
   "source": [
    "b=np.arange(3,15,4).reshape(3,1)\n",
    "b"
   ]
  },
  {
   "cell_type": "code",
   "execution_count": 17,
   "id": "b8cf917e-8306-4d27-a5b0-fdad02156ace",
   "metadata": {},
   "outputs": [
    {
     "name": "stdout",
     "output_type": "stream",
     "text": [
      "0 3\n",
      "2 3\n",
      "4 3\n",
      "6 3\n",
      "8 7\n",
      "10 7\n",
      "12 7\n",
      "14 7\n",
      "16 11\n",
      "18 11\n",
      "20 11\n",
      "22 11\n"
     ]
    }
   ],
   "source": [
    "for x,y in np.nditer([a,b]):\n",
    "    print(x,y)"
   ]
  }
 ],
 "metadata": {
  "kernelspec": {
   "display_name": "Python 3 (ipykernel)",
   "language": "python",
   "name": "python3"
  },
  "language_info": {
   "codemirror_mode": {
    "name": "ipython",
    "version": 3
   },
   "file_extension": ".py",
   "mimetype": "text/x-python",
   "name": "python",
   "nbconvert_exporter": "python",
   "pygments_lexer": "ipython3",
   "version": "3.13.2"
  }
 },
 "nbformat": 4,
 "nbformat_minor": 5
}
